{
 "cells": [
  {
   "cell_type": "markdown",
   "metadata": {},
   "source": [
    "# This file is for gathering all the data from government websites for use later"
   ]
  },
  {
   "cell_type": "code",
   "execution_count": 1,
   "metadata": {},
   "outputs": [],
   "source": [
    "from bs4 import BeautifulSoup\n",
    "import requests, json\n",
    "import pandas as pd\n",
    "import numpy as np"
   ]
  },
  {
   "cell_type": "markdown",
   "metadata": {},
   "source": [
    "### Set some global variables"
   ]
  },
  {
   "cell_type": "code",
   "execution_count": 2,
   "metadata": {},
   "outputs": [],
   "source": [
    "with open('api_keys.txt') as file:\n",
    "    api = json.loads(file.read())['api']\n",
    "since = 2000\n",
    "to = 2018\n",
    "column_names_xls = ['State FIPS Code', 'Postal Code', 'Name', 'Poverty Estimate, All Ages',\n",
    "       '90% CI Lower Bound', '90% CI Upper Bound', 'Poverty Percent, All Ages',\n",
    "       '90% CI Lower Bound', '90% CI Upper Bound',\n",
    "       'Poverty Estimate, Age 0-17', '90% CI Lower Bound',\n",
    "       '90% CI Upper Bound', 'Poverty Percent, Age 0-17', '90% CI Lower Bound',\n",
    "       '90% CI Upper Bound', 'Poverty Estimate, Age 5-17 in Families',\n",
    "       '90% CI Lower Bound', '90% CI Upper Bound',\n",
    "       'Poverty Percent, Age 5-17 in Families', '90% CI Lower Bound',\n",
    "       '90% CI Upper Bound', 'Median Household Income', '90% CI Lower Bound',\n",
    "       '90% CI Upper Bound', 'Poverty Estimate, Age 0-4', '90% CI Lower Bound',\n",
    "       '90% CI Upper Bound', 'Poverty Percent, Age 0-4', '90% CI Lower Bound',\n",
    "       '90% CI Upper Bound']\n",
    "column_names_dat = ['State FIPS Code', 'Poverty Estimate, All Ages',\n",
    "       '90% CI Lower Bound', '90% CI Upper Bound', 'Poverty Percent, All Ages',\n",
    "       '90% CI Lower Bound', '90% CI Upper Bound',\n",
    "       'Poverty Estimate, Age 0-17', '90% CI Lower Bound',\n",
    "       '90% CI Upper Bound', 'Poverty Percent, Age 0-17', '90% CI Lower Bound',\n",
    "       '90% CI Upper Bound', 'Poverty Estimate, Age 5-17 in Families',\n",
    "       '90% CI Lower Bound', '90% CI Upper Bound',\n",
    "       'Poverty Percent, Age 5-17 in Families', '90% CI Lower Bound',\n",
    "       '90% CI Upper Bound', 'Median Household Income', '90% CI Lower Bound',\n",
    "       '90% CI Upper Bound', 'Poverty Estimate, Age 0-4', '90% CI Lower Bound',\n",
    "       '90% CI Upper Bound', 'Poverty Percent, Age 0-4', '90% CI Lower Bound',\n",
    "       '90% CI Upper Bound', 'Name', 'Postal Code']"
   ]
  },
  {
   "cell_type": "markdown",
   "metadata": {},
   "source": [
    "### Load in Population Data, State Codes, and Crime Key"
   ]
  },
  {
   "cell_type": "code",
   "execution_count": 3,
   "metadata": {},
   "outputs": [],
   "source": [
    "pop = pd.read_csv('pop_data.csv')\n",
    "pop['Geographic Area'] = pop['Geographic Area'].apply(lambda x: x.replace('.','').strip())\n",
    "pop = pd.melt(pop, id_vars=['Geographic Area'], var_name='Year', value_name='Population')\n",
    "pop['Year'] = pop['Year'].astype(int)\n",
    "\n",
    "state_codes = pd.read_csv('state_abbr.csv')\n",
    "abbr = [i for i in state_codes['Code']]\n",
    "\n",
    "key_to_crimes = pd.read_csv('demo_and_data_key.csv')"
   ]
  },
  {
   "cell_type": "markdown",
   "metadata": {},
   "source": [
    "### Get population Estimates from Census.gov"
   ]
  },
  {
   "cell_type": "code",
   "execution_count": 4,
   "metadata": {},
   "outputs": [],
   "source": [
    "def create_pop_df():\n",
    "    column_names = ['Postal Code', 'Name', 'Poverty Estimate, All Ages',\n",
    "                           'Poverty Percent, All Ages', 'Poverty Estimate, Age 0-17',\n",
    "                           'Poverty Percent, Age 0-17', 'Poverty Estimate, Age 5-17 in Families',\n",
    "                           'Poverty Percent, Age 5-17 in Families', 'Median Household Income',\n",
    "                           'Poverty Estimate, Age 0-4', 'Poverty Percent, Age 0-4', 'year']\n",
    "    data = pd.DataFrame(columns=column_names)\n",
    "    for i in range(1995,2020):\n",
    "        try:\n",
    "            download_url = 'https://www2.census.gov/programs-surveys/saipe/datasets/' + str(i) +  '/' + str(i) + '-state-and-county/est' + str(i)[2:] + 'us.xls'\n",
    "            census = pd.read_excel(download_url, header=None).iloc[4:,:]\n",
    "            census.columns = column_names_xls\n",
    "            census = census.iloc[:,[1,2,3,6,9,12,15,18,21,24,27]]\n",
    "            census.loc[:,'year'] = i\n",
    "        except:\n",
    "            try:\n",
    "                download_url = 'https://www2.census.gov/programs-surveys/saipe/datasets/' + str(i) +  '/' + str(i) + '-state-and-county/est' + str(i)[2:] + 'us.dat'\n",
    "                census = pd.read_fwf(download_url, header = None).drop([1], axis=1)\n",
    "                census.columns = column_names_dat\n",
    "                census = census.iloc[:,[1,4,7,10,13,16,19,22,25,28,29]]\n",
    "                census.loc[:,'year'] = i\n",
    "            except:\n",
    "                pass\n",
    "        data = data.append(census, sort=True)\n",
    "        print(f'{i}, {census.shape}\\r', end=\"\")\n",
    "    data = data[column_names]\n",
    "    return data"
   ]
  },
  {
   "cell_type": "code",
   "execution_count": 5,
   "metadata": {},
   "outputs": [
    {
     "name": "stdout",
     "output_type": "stream",
     "text": [
      "2019, (52, 12)\r"
     ]
    }
   ],
   "source": [
    "data = create_pop_df()\n",
    "data = data.infer_objects()"
   ]
  },
  {
   "cell_type": "markdown",
   "metadata": {},
   "source": [
    "### Get Crime Data for each state"
   ]
  },
  {
   "cell_type": "code",
   "execution_count": 7,
   "metadata": {},
   "outputs": [],
   "source": [
    "def create_crime_data():\n",
    "    data = pd.DataFrame(columns=['data_year', 'key', 'month_num', 'value'])\n",
    "    for i, state in enumerate(abbr):\n",
    "        url = 'https://api.usa.gov/crime/fbi/sapi/api/arrest/states/offense/' + state + '/all/' + str(since) + '/' + str(to) + '?api_key=' + api \n",
    "        response = requests.get(url)\n",
    "        parse = json.loads(response.content)\n",
    "        df = pd.DataFrame(parse['data'])\n",
    "        df['Code'] = state\n",
    "        data = data.append(df,  ignore_index = True, sort = True)\n",
    "        print(f'{i}\\r', end=\"\")\n",
    "    data.columns = ['Code', 'Year', 'Crime', 'month', 'Incidents']\n",
    "    data = data[['Year', 'Crime', 'Incidents', 'Code']]\n",
    "    return data"
   ]
  },
  {
   "cell_type": "code",
   "execution_count": 8,
   "metadata": {},
   "outputs": [
    {
     "name": "stdout",
     "output_type": "stream",
     "text": [
      "50\r"
     ]
    }
   ],
   "source": [
    "crime = create_crime_data()"
   ]
  },
  {
   "cell_type": "markdown",
   "metadata": {},
   "source": [
    "### Get Demographic Data for each Crime"
   ]
  },
  {
   "cell_type": "code",
   "execution_count": 145,
   "metadata": {},
   "outputs": [],
   "source": [
    "variable = ['aggravated-assault','all-other-offenses','arson','burglary','curfew','disorderly-conduct','dui','drug-grand-total','drug-possesion-marijuana','drug-possesion-opium','drug-possesion-other','drug-possesion-subtotal','drug-possesion-synthetic','drug-sales-marijuana','drug-sales-opium','drug-sales-other','drug-sales-subtotal','drug-sales-synthetic','drunkenness','embezzlement','forgery','fraud','gambling-all-other','gambling-bookmaking','gambling-numbers','gambling-total','human-trafficking-commerical','human-trafficking-servitude','larceny','liqour-laws','motor-vehcile-theft','murder','offense-against-family','prostitution','prostitution-assisting','prostitution-prostitution','prostitution-purchasing','rape','robbery','runaway','sex-offenses','simple-assault','stolen-propery','suspicion','vagrancy','vandalism','weapons',]\n",
    "\n",
    "def create_crime_demographic_data():\n",
    "    data = pd.DataFrame(columns=['data_year', 'key', 'month_num', 'value'])\n",
    "    total = len(variable)*len(abbr)\n",
    "    print('Total: ', total)\n",
    "    left = 0\n",
    "    for i, state in enumerate(abbr):\n",
    "        for x, crime in enumerate(variable):\n",
    "            url = 'https://api.usa.gov/crime/fbi/sapi/api/arrest/states/' + state + '/'+ crime +'/race/' + str(since) + '/' + str(to) + '?api_key=' + api \n",
    "            response = requests.get(url)\n",
    "            parse = json.loads(response.content)\n",
    "            try:\n",
    "                df = pd.DataFrame(parse['data'])\n",
    "                df['Code'] = state\n",
    "                df['Crime'] = crime\n",
    "                data = data.append(df,  ignore_index = True, sort = True)\n",
    "            except:\n",
    "                pass\n",
    "            left += 1\n",
    "            print(f'% Done: {int((left/total)*100)}% --- {state} - {i}, {crime} - {x}                       \\r', end=\"\")\n",
    "    data = data.drop(['month_num'], axis = 1)\n",
    "    data.columns = ['Code', 'Crime', 'Year', 'Race', 'Count']\n",
    "    data['Crime'] = data['Crime'].apply(lambda x: x.title())\n",
    "    return data"
   ]
  },
  {
   "cell_type": "code",
   "execution_count": 146,
   "metadata": {},
   "outputs": [
    {
     "name": "stdout",
     "output_type": "stream",
     "text": [
      "Total:  2397\n",
      "% Done: 100% --- WY - 50, weapons - 46                                           \r"
     ]
    }
   ],
   "source": [
    "demographic = create_crime_demographic_data()\n",
    "demographic.to_csv('demographic_info_by_crime.csv', index=False)"
   ]
  },
  {
   "cell_type": "code",
   "execution_count": 9,
   "metadata": {},
   "outputs": [],
   "source": [
    "demographic = pd.read_csv('demographic_info_by_crime.csv')\n",
    "demographic = demographic.pivot_table(index = ['Year', 'Code', 'Crime'], columns='Race', values='Count', aggfunc=np.sum).reset_index()\n",
    "demographic['Total'] = demographic['American Indian or Alaska Native'] + demographic['Asian'] + demographic['Black or African American'] + demographic['Native Hawaiian'] + demographic['Unknown'] + demographic['White']"
   ]
  },
  {
   "cell_type": "markdown",
   "metadata": {},
   "source": [
    "### Total Country Demographics"
   ]
  },
  {
   "cell_type": "code",
   "execution_count": 24,
   "metadata": {},
   "outputs": [],
   "source": [
    "total_demo = pd.read_csv(\n",
    "    'state_demographics.txt',\n",
    "    sep = '\\t'\n",
    ").drop(\n",
    "    ['Notes','State Code','Race Code', 'Yearly July 1st Estimates Code'],\n",
    "    axis=1\n",
    ").dropna()"
   ]
  },
  {
   "cell_type": "code",
   "execution_count": 30,
   "metadata": {},
   "outputs": [],
   "source": [
    "total_demo.columns = ['State','Year','Race','Population_Totals']\n",
    "total_demo['Year'] = total_demo['Year'].astype(int)\n",
    "total_demo['Population_Totals'] = total_demo['Population_Totals'].astype(int)"
   ]
  },
  {
   "cell_type": "markdown",
   "metadata": {},
   "source": [
    "### Merge Population, Crime Data, and Demographics"
   ]
  },
  {
   "cell_type": "code",
   "execution_count": 10,
   "metadata": {},
   "outputs": [],
   "source": [
    "crime_and_pop = crime.merge(state_codes, on=['Code']).merge(pop, left_on=['State', 'Year'], right_on = ['Geographic Area', 'Year'])\n",
    "crime_and_pop = crime_and_pop.drop(['Geographic Area'], axis=1)\n",
    "crime_and_pop['Incidents'] = crime_and_pop['Incidents'].astype('int')\n",
    "crime_and_pop['Incident %'] = crime_and_pop['Incidents'] / crime_and_pop['Population']"
   ]
  },
  {
   "cell_type": "code",
   "execution_count": 48,
   "metadata": {},
   "outputs": [],
   "source": [
    "data = demographic.merge(\n",
    "    key_to_crimes,\n",
    "    left_on='Crime',\n",
    "    right_on='Demographic'\n",
    ").merge(\n",
    "    crime_and_pop,\n",
    "    left_on=['Year', 'Code', 'Data'],\n",
    "    right_on=['Year', 'Code', 'Crime']\n",
    ").drop(\n",
    "    ['Crime_x', 'Crime_y', 'Demographic'],\n",
    "    axis = 1\n",
    ")\n",
    "data = data.rename(columns={\"Data\": \"Crime\"})\n",
    "\n",
    "data = data.melt(\n",
    "    id_vars=['Year', 'Code', 'Crime', 'Incidents',\t'State', 'Abbrev',\t'Population',\t'Incident %'],\n",
    "    var_name='Race',\n",
    "    value_name='Count'\n",
    ").merge(\n",
    "    total_demo,\n",
    "    left_on=['Year', 'State', 'Race'],\n",
    "    right_on=['Year', 'State', 'Race']\n",
    ")"
   ]
  },
  {
   "cell_type": "markdown",
   "metadata": {},
   "source": [
    "### Get total crime rates for each state by race"
   ]
  },
  {
   "cell_type": "code",
   "execution_count": 53,
   "metadata": {},
   "outputs": [],
   "source": [
    "grouped_data = data[['Year', 'Code', 'Race', 'Count']].groupby(['Year', 'Code','Race']).sum()\n",
    "grouped_data = grouped_data.reset_index()"
   ]
  },
  {
   "cell_type": "markdown",
   "metadata": {},
   "source": [
    "### Save to CSV"
   ]
  },
  {
   "cell_type": "code",
   "execution_count": 55,
   "metadata": {},
   "outputs": [],
   "source": [
    "data.to_csv('combined_data.csv', index=False)"
   ]
  }
 ],
 "metadata": {
  "kernelspec": {
   "display_name": "Python 3",
   "language": "python",
   "name": "python3"
  },
  "language_info": {
   "codemirror_mode": {
    "name": "ipython",
    "version": 3
   },
   "file_extension": ".py",
   "mimetype": "text/x-python",
   "name": "python",
   "nbconvert_exporter": "python",
   "pygments_lexer": "ipython3",
   "version": "3.7.6"
  }
 },
 "nbformat": 4,
 "nbformat_minor": 4
}
